{
 "cells": [
  {
   "cell_type": "code",
   "execution_count": 19,
   "metadata": {},
   "outputs": [],
   "source": [
    "import numpy as np\n",
    "import pandas as pd\n",
    "import matplotlib.pyplot as plt\n",
    "import re"
   ]
  },
  {
   "cell_type": "code",
   "execution_count": 59,
   "metadata": {},
   "outputs": [],
   "source": [
    "resps = pd.read_csv('../../results/evaluation/Informativeness of Summaries.csv')\n",
    "topsum_score = 0\n",
    "textsum_score = 0\n",
    "coop_score = 0\n",
    "with open('../../results/evaluation/answers.txt') as f:\n",
    "    for question in range(1, len(resps.columns)):\n",
    "        lines = list()\n",
    "        for _ in range(5):\n",
    "            lines.append(f.readline())\n",
    "        for answer in resps[resps.columns[question]]:\n",
    "            best_model = lines[int(re.findall(r\"\\d\", answer)[0])][4:]\n",
    "            if best_model == 'TopSum\\n':\n",
    "                topsum_score += 2\n",
    "            elif best_model == 'TextSum\\n':\n",
    "                textsum_score += 2\n",
    "            else:\n",
    "                coop_score += 2\n",
    "\n",
    "            second_best_model = lines[int(re.findall(r\"\\d\", answer)[1])][4:]\n",
    "            if second_best_model == 'TopSum\\n':\n",
    "                topsum_score += 1\n",
    "            elif second_best_model == 'TextSum\\n':\n",
    "                textsum_score += 1\n",
    "            else:\n",
    "                coop_score += 1\n",
    "f.close()"
   ]
  },
  {
   "cell_type": "code",
   "execution_count": 2,
   "metadata": {},
   "outputs": [
    {
     "name": "stderr",
     "output_type": "stream",
     "text": [
      "/tmp/ipykernel_14292/5351453.py:15: UserWarning: Matplotlib is currently using module://matplotlib_inline.backend_inline, which is a non-GUI backend, so cannot show the figure.\n",
      "  fig.show()\n"
     ]
    },
    {
     "data": {
      "image/png": "[encoded data removed]",
      "text/plain": [
       "<Figure size 432x288 with 1 Axes>"
      ]
     },
     "metadata": {},
     "output_type": "display_data"
    }
   ],
   "source": [
    "data = [[30, 25],[40, 23],[35, 22]]\n",
    "X = np.arange(2)\n",
    "fig = plt.figure()\n",
    "ax = fig.add_axes([0,0,1,1])\n",
    "ax.bar(X + 0.00, data[0], color = 'b', width = 0.25)\n",
    "ax.bar(X + 0.25, data[1], color = 'g', width = 0.25)\n",
    "ax.bar(X + 0.50, data[2], color = 'r', width = 0.25)\n",
    "ax.bar(X + 0.00, data[0], bottom=data[0], color = 'lightblue', width = 0.25)\n",
    "ax.bar(X + 0.25, data[1], bottom=data[1], color = 'lightgreen', width = 0.25)\n",
    "ax.bar(X + 0.50, data[2], bottom=data[2], color = 'lightcoral', width = 0.25)\n",
    "plt.xticks([r + 0.25 for r in range(2)], ['Amazon', 'Yelp'])\n",
    "plt.gcf().set_facecolor('white')\n",
    "ax.legend(labels=['TopSum', 'PEGASUS', 'COOP'])\n",
    "plt.savefig('human_evaluation.png', bbox_inches='tight')\n",
    "fig.show()"
   ]
  }
 ],
 "metadata": {
  "kernelspec": {
   "display_name": "Python 3.8.13 ('researchTopics')",
   "language": "python",
   "name": "python3"
  },
  "language_info": {
   "codemirror_mode": {
    "name": "ipython",
    "version": 3
   },
   "file_extension": ".py",
   "mimetype": "text/x-python",
   "name": "python",
   "nbconvert_exporter": "python",
   "pygments_lexer": "ipython3",
   "version": "3.8.13"
  },
  "orig_nbformat": 4,
  "vscode": {
   "interpreter": {
    "hash": "b30b14a64463b48a472ddf210762c2b31ca134fd217a9af0c6fba74bd25d541d"
   }
  }
 },
 "nbformat": 4,
 "nbformat_minor": 2
}
