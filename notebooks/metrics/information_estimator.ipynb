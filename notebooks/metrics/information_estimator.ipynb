{
 "cells": [
  {
   "cell_type": "code",
   "execution_count": 11,
   "id": "c90d3b6f",
   "metadata": {},
   "outputs": [],
   "source": [
    "import os\n",
    "import sys\n",
    "module_path = os.path.abspath(os.path.join('../..'))\n",
    "if module_path not in sys.path:\n",
    "    sys.path.append(module_path)"
   ]
  },
  {
   "cell_type": "code",
   "execution_count": 12,
   "id": "02475c93",
   "metadata": {},
   "outputs": [],
   "source": [
    "from torch.utils.data import DataLoader\n",
    "from transformers import T5Config, T5ForConditionalGeneration, T5Tokenizer\n",
    "from src.helpers.serialization import df_read_json"
   ]
  },
  {
   "cell_type": "code",
   "execution_count": 14,
   "id": "f3e17550",
   "metadata": {},
   "outputs": [
    {
     "data": {
      "application/vnd.jupyter.widget-view+json": {
       "model_id": "cb06043584024bdc9b3c544e2ba364b2",
       "version_major": 2,
       "version_minor": 0
      },
      "text/plain": [
       "Downloading:   0%|          | 0.00/1.81k [00:00<?, ?B/s]"
      ]
     },
     "metadata": {},
     "output_type": "display_data"
    },
    {
     "data": {
      "application/vnd.jupyter.widget-view+json": {
       "model_id": "a6063ac731d54d778be7cd44dc6fc1b1",
       "version_major": 2,
       "version_minor": 0
      },
      "text/plain": [
       "Downloading:   0%|          | 0.00/1.29k [00:00<?, ?B/s]"
      ]
     },
     "metadata": {},
     "output_type": "display_data"
    },
    {
     "data": {
      "application/vnd.jupyter.widget-view+json": {
       "model_id": "2c76cbdfb4654b748c742ff13fb9a62c",
       "version_major": 2,
       "version_minor": 0
      },
      "text/plain": [
       "Downloading:   0%|          | 0.00/231M [00:00<?, ?B/s]"
      ]
     },
     "metadata": {},
     "output_type": "display_data"
    },
    {
     "name": "stdout",
     "output_type": "stream",
     "text": [
      "correct: 899\n",
      "total: 5382\n",
      "ratio: 0.1670382757339279\n",
      "correct: 1519\n",
      "total: 9584\n",
      "ratio: 0.1584933222036728\n"
     ]
    }
   ],
   "source": [
    "model_name = \"allenai/t5-small-next-word-generator-qoogle\"\n",
    "tokenizer = T5Tokenizer.from_pretrained(model_name)\n",
    "model = T5ForConditionalGeneration.from_pretrained(model_name)\n",
    "\n",
    "def run_model(input_string, **generator_args):\n",
    "    input_ids = tokenizer.encode(input_string, return_tensors=\"pt\")\n",
    "    res = model.generate(input_ids, **generator_args)\n",
    "    output = tokenizer.batch_decode(res, skip_special_tokens=True)\n",
    "    return output\n",
    "\n",
    "\n",
    "def test_summaries(path):\n",
    "    meansum = df_read_json(path)\n",
    "    correct = 0\n",
    "    total = 0\n",
    "    for review in meansum['text']:\n",
    "        processed = ''\n",
    "        for word in review.split():\n",
    "            processed += word + ' '\n",
    "            next_word = run_model(processed)[0]\n",
    "            current_index = len(processed)\n",
    "            if review[current_index:current_index+len(next_word)] == next_word:\n",
    "                correct += 1\n",
    "            total += 1\n",
    "    print('correct: ' + str(correct))\n",
    "    print('total: ' + str(total))\n",
    "    print('ratio: ' + str(correct/total))\n",
    "\n",
    "\n",
    "test_summaries('../../data/meansum_summaries_trimmed.json')\n",
    "test_summaries('../../data/pegasus_summaries.json')"
   ]
  }
 ],
 "metadata": {
  "kernelspec": {
   "display_name": "Python 3.8.13 ('researchTopics')",
   "language": "python",
   "name": "python3"
  },
  "language_info": {
   "codemirror_mode": {
    "name": "ipython",
    "version": 3
   },
   "file_extension": ".py",
   "mimetype": "text/x-python",
   "name": "python",
   "nbconvert_exporter": "python",
   "pygments_lexer": "ipython3",
   "version": "3.8.13"
  },
  "vscode": {
   "interpreter": {
    "hash": "845f2c57ce71201583169d626cc70b48fb84cd1f4b82525e3126fdb992a2f15c"
   }
  }
 },
 "nbformat": 4,
 "nbformat_minor": 5
}
