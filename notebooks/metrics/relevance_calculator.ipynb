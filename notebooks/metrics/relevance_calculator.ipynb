{
 "cells": [
  {
   "cell_type": "code",
   "execution_count": 1,
   "id": "45143c17",
   "metadata": {},
   "outputs": [],
   "source": [
    "import os\n",
    "import sys\n",
    "module_path = os.path.abspath(os.path.join('../..'))\n",
    "if module_path not in sys.path:\n",
    "    sys.path.append(module_path)"
   ]
  },
  {
   "cell_type": "code",
   "execution_count": 4,
   "id": "48ea537e",
   "metadata": {},
   "outputs": [],
   "source": [
    "from src.helpers.serialization import df_read_json\n",
    "from data.my_datasets.my_vectorized_dataset import MyVectorizedDataset\n",
    "import numpy as np\n",
    "from src.helpers.word_to_vec import word_to_vec"
   ]
  },
  {
   "cell_type": "code",
   "execution_count": 5,
   "id": "d858aca1",
   "metadata": {},
   "outputs": [
    {
     "name": "stdout",
     "output_type": "stream",
     "text": [
      "meansum relevance: \n",
      "4.991386212455611\n",
      "\n",
      "pegasus relevance: \n",
      "4.885724714549456\n",
      "\n",
      "wiki relevance: \n",
      "4.92934007904049\n"
     ]
    }
   ],
   "source": [
    "meansum_dataset = MyVectorizedDataset('../../data/meansum_summaries_trimmed.json')\n",
    "pegasus_dataset = MyVectorizedDataset('../../data/pegasus_on_yelp_summaries.json')\n",
    "wiki_dataset = MyVectorizedDataset('../../data/wikitext.json')\n",
    "\n",
    "def calculate_relevance(dataset):\n",
    "    distances = []\n",
    "    subject = word_to_vec('restaurant')\n",
    "\n",
    "    for vector in dataset:\n",
    "        distance = np.linalg.norm(subject - vector.numpy())\n",
    "        distances.append(distance)\n",
    "    avg = (sum(distances) / len(distances))\n",
    "    print(avg)\n",
    "\n",
    "print('meansum relevance: ')\n",
    "calculate_relevance(meansum_dataset)\n",
    "\n",
    "print('\\npegasus relevance: ')\n",
    "calculate_relevance(pegasus_dataset)\n",
    "\n",
    "print('\\nwiki relevance: ')\n",
    "calculate_relevance(wiki_dataset)"
   ]
  }
 ],
 "metadata": {
  "kernelspec": {
   "display_name": "Python 3.8.13 ('researchTopics')",
   "language": "python",
   "name": "python3"
  },
  "language_info": {
   "codemirror_mode": {
    "name": "ipython",
    "version": 3
   },
   "file_extension": ".py",
   "mimetype": "text/x-python",
   "name": "python",
   "nbconvert_exporter": "python",
   "pygments_lexer": "ipython3",
   "version": "3.8.13"
  },
  "vscode": {
   "interpreter": {
    "hash": "845f2c57ce71201583169d626cc70b48fb84cd1f4b82525e3126fdb992a2f15c"
   }
  }
 },
 "nbformat": 4,
 "nbformat_minor": 5
}
