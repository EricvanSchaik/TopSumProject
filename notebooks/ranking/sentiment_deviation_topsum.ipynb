{
 "cells": [
  {
   "cell_type": "code",
   "execution_count": 2,
   "metadata": {},
   "outputs": [],
   "source": [
    "import os\n",
    "import sys\n",
    "\n",
    "module_path = os.path.abspath(os.path.join('../..'))\n",
    "if module_path not in sys.path:\n",
    "    sys.path.append(module_path)"
   ]
  },
  {
   "cell_type": "code",
   "execution_count": 3,
   "metadata": {},
   "outputs": [],
   "source": [
    "from src.helpers.serialization import df_read_json\n",
    "import pandas as pd\n",
    "from nltk.sentiment import SentimentIntensityAnalyzer\n",
    "import numpy as np"
   ]
  },
  {
   "cell_type": "code",
   "execution_count": 4,
   "metadata": {},
   "outputs": [],
   "source": [
    "amazon_df = pd.read_csv('../../data/amazon_sorted/most_populair_products.csv')\n",
    "amazon_df = amazon_df.drop(columns='index').dropna().reset_index()\n",
    "\n",
    "product_ids = amazon_df['product_id'].unique()"
   ]
  },
  {
   "cell_type": "code",
   "execution_count": 7,
   "metadata": {},
   "outputs": [
    {
     "name": "stdout",
     "output_type": "stream",
     "text": [
      "0.9536928373712051\n"
     ]
    }
   ],
   "source": [
    "\n",
    "sia = SentimentIntensityAnalyzer()\n",
    "\n",
    "def measure_deviation(summaries: pd.DataFrame) -> str:\n",
    "    avg_sent_inputs = list()\n",
    "    for index, product_id in enumerate(product_ids):\n",
    "        reviews = amazon_df[amazon_df['product_id'] == product_id]['review_body']\n",
    "        summary = summaries.iloc[index]['text']\n",
    "        sents = reviews.apply(sia.polarity_scores)\n",
    "        sents = sents.apply(lambda x: x.get('compound'))\n",
    "        avg_sent_input = sents.mean()\n",
    "        sent_sum = sia.polarity_scores(summary).get('compound')\n",
    "        avg_sent_inputs.append(abs(avg_sent_input - sent_sum))\n",
    "    return str(sum(avg_sent_inputs) / len(avg_sent_inputs))\n",
    "\n",
    "topsum_summaries = df_read_json('../../results/topsum_summaries.json')\n",
    "print(measure_deviation(topsum_summaries))"
   ]
  },
  {
   "cell_type": "code",
   "execution_count": 8,
   "metadata": {},
   "outputs": [
    {
     "name": "stdout",
     "output_type": "stream",
     "text": [
      "0.5330465044047651\n"
     ]
    }
   ],
   "source": [
    "distilbart_summaries = df_read_json('../../data/distilbart_on_amazon_summaries.json')\n",
    "print(measure_deviation(distilbart_summaries))"
   ]
  },
  {
   "cell_type": "code",
   "execution_count": null,
   "metadata": {},
   "outputs": [],
   "source": []
  }
 ],
 "metadata": {
  "kernelspec": {
   "display_name": "Python 3.8.13 ('researchTopics')",
   "language": "python",
   "name": "python3"
  },
  "language_info": {
   "codemirror_mode": {
    "name": "ipython",
    "version": 3
   },
   "file_extension": ".py",
   "mimetype": "text/x-python",
   "name": "python",
   "nbconvert_exporter": "python",
   "pygments_lexer": "ipython3",
   "version": "3.8.13"
  },
  "orig_nbformat": 4,
  "vscode": {
   "interpreter": {
    "hash": "b30b14a64463b48a472ddf210762c2b31ca134fd217a9af0c6fba74bd25d541d"
   }
  }
 },
 "nbformat": 4,
 "nbformat_minor": 2
}
