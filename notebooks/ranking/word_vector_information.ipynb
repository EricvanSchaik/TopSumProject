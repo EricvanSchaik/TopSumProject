{
 "cells": [
  {
   "cell_type": "code",
   "execution_count": 14,
   "metadata": {},
   "outputs": [],
   "source": [
    "import gensim.downloader\n",
    "import numpy as np"
   ]
  },
  {
   "cell_type": "code",
   "execution_count": 15,
   "metadata": {},
   "outputs": [],
   "source": [
    "glove = gensim.downloader.load('glove-twitter-25')\n",
    "w2v = gensim.downloader.load('word2vec-google-news-300')"
   ]
  },
  {
   "cell_type": "code",
   "execution_count": 16,
   "metadata": {},
   "outputs": [
    {
     "name": "stdout",
     "output_type": "stream",
     "text": [
      "6.825211\n",
      "3.3557737\n",
      "6.5615573\n",
      "4.5202594\n",
      "5.700421\n"
     ]
    }
   ],
   "source": [
    "print(np.linalg.norm(glove['the']))\n",
    "print(np.linalg.norm(glove['hypothesis']))\n",
    "print(np.linalg.norm(glove['in']))\n",
    "print(np.linalg.norm(glove['ambiguity']))\n",
    "print(np.linalg.norm(glove['or']))"
   ]
  },
  {
   "cell_type": "code",
   "execution_count": 23,
   "metadata": {},
   "outputs": [
    {
     "name": "stdout",
     "output_type": "stream",
     "text": [
      "1.0722071\n",
      "3.4770265\n",
      "1.3277475\n",
      "3.0763721\n",
      "1.6684263\n"
     ]
    },
    {
     "ename": "KeyError",
     "evalue": "\"Key 'and' not present\"",
     "output_type": "error",
     "traceback": [
      "\u001b[1;31m---------------------------------------------------------------------------\u001b[0m",
      "\u001b[1;31mKeyError\u001b[0m                                  Traceback (most recent call last)",
      "\u001b[1;32mc:\\Users\\ERSCHAIK\\VSCode\\researchTopics\\notebooks\\ranking\\word_vector_information.ipynb Cell 4\u001b[0m in \u001b[0;36m<cell line: 6>\u001b[1;34m()\u001b[0m\n\u001b[0;32m      <a href='vscode-notebook-cell:/c%3A/Users/ERSCHAIK/VSCode/researchTopics/notebooks/ranking/word_vector_information.ipynb#W3sZmlsZQ%3D%3D?line=3'>4</a>\u001b[0m \u001b[39mprint\u001b[39m(np\u001b[39m.\u001b[39mlinalg\u001b[39m.\u001b[39mnorm(w2v[\u001b[39m'\u001b[39m\u001b[39mambiguity\u001b[39m\u001b[39m'\u001b[39m]))\n\u001b[0;32m      <a href='vscode-notebook-cell:/c%3A/Users/ERSCHAIK/VSCode/researchTopics/notebooks/ranking/word_vector_information.ipynb#W3sZmlsZQ%3D%3D?line=4'>5</a>\u001b[0m \u001b[39mprint\u001b[39m(np\u001b[39m.\u001b[39mlinalg\u001b[39m.\u001b[39mnorm(w2v[\u001b[39m'\u001b[39m\u001b[39mor\u001b[39m\u001b[39m'\u001b[39m]))\n\u001b[1;32m----> <a href='vscode-notebook-cell:/c%3A/Users/ERSCHAIK/VSCode/researchTopics/notebooks/ranking/word_vector_information.ipynb#W3sZmlsZQ%3D%3D?line=5'>6</a>\u001b[0m \u001b[39mprint\u001b[39m(w2v[\u001b[39m'\u001b[39;49m\u001b[39mand\u001b[39;49m\u001b[39m'\u001b[39;49m])\n",
      "File \u001b[1;32mc:\\Users\\ERSCHAIK\\Miniconda3\\envs\\researchTopics\\lib\\site-packages\\gensim\\models\\keyedvectors.py:395\u001b[0m, in \u001b[0;36mKeyedVectors.__getitem__\u001b[1;34m(self, key_or_keys)\u001b[0m\n\u001b[0;32m    381\u001b[0m \u001b[39m\"\"\"Get vector representation of `key_or_keys`.\u001b[39;00m\n\u001b[0;32m    382\u001b[0m \n\u001b[0;32m    383\u001b[0m \u001b[39mParameters\u001b[39;00m\n\u001b[1;32m   (...)\u001b[0m\n\u001b[0;32m    392\u001b[0m \n\u001b[0;32m    393\u001b[0m \u001b[39m\"\"\"\u001b[39;00m\n\u001b[0;32m    394\u001b[0m \u001b[39mif\u001b[39;00m \u001b[39misinstance\u001b[39m(key_or_keys, _KEY_TYPES):\n\u001b[1;32m--> 395\u001b[0m     \u001b[39mreturn\u001b[39;00m \u001b[39mself\u001b[39;49m\u001b[39m.\u001b[39;49mget_vector(key_or_keys)\n\u001b[0;32m    397\u001b[0m \u001b[39mreturn\u001b[39;00m vstack([\u001b[39mself\u001b[39m\u001b[39m.\u001b[39mget_vector(key) \u001b[39mfor\u001b[39;00m key \u001b[39min\u001b[39;00m key_or_keys])\n",
      "File \u001b[1;32mc:\\Users\\ERSCHAIK\\Miniconda3\\envs\\researchTopics\\lib\\site-packages\\gensim\\models\\keyedvectors.py:438\u001b[0m, in \u001b[0;36mKeyedVectors.get_vector\u001b[1;34m(self, key, norm)\u001b[0m\n\u001b[0;32m    414\u001b[0m \u001b[39mdef\u001b[39;00m \u001b[39mget_vector\u001b[39m(\u001b[39mself\u001b[39m, key, norm\u001b[39m=\u001b[39m\u001b[39mFalse\u001b[39;00m):\n\u001b[0;32m    415\u001b[0m     \u001b[39m\"\"\"Get the key's vector, as a 1D numpy array.\u001b[39;00m\n\u001b[0;32m    416\u001b[0m \n\u001b[0;32m    417\u001b[0m \u001b[39m    Parameters\u001b[39;00m\n\u001b[1;32m   (...)\u001b[0m\n\u001b[0;32m    436\u001b[0m \n\u001b[0;32m    437\u001b[0m \u001b[39m    \"\"\"\u001b[39;00m\n\u001b[1;32m--> 438\u001b[0m     index \u001b[39m=\u001b[39m \u001b[39mself\u001b[39;49m\u001b[39m.\u001b[39;49mget_index(key)\n\u001b[0;32m    439\u001b[0m     \u001b[39mif\u001b[39;00m norm:\n\u001b[0;32m    440\u001b[0m         \u001b[39mself\u001b[39m\u001b[39m.\u001b[39mfill_norms()\n",
      "File \u001b[1;32mc:\\Users\\ERSCHAIK\\Miniconda3\\envs\\researchTopics\\lib\\site-packages\\gensim\\models\\keyedvectors.py:412\u001b[0m, in \u001b[0;36mKeyedVectors.get_index\u001b[1;34m(self, key, default)\u001b[0m\n\u001b[0;32m    410\u001b[0m     \u001b[39mreturn\u001b[39;00m default\n\u001b[0;32m    411\u001b[0m \u001b[39melse\u001b[39;00m:\n\u001b[1;32m--> 412\u001b[0m     \u001b[39mraise\u001b[39;00m \u001b[39mKeyError\u001b[39;00m(\u001b[39mf\u001b[39m\u001b[39m\"\u001b[39m\u001b[39mKey \u001b[39m\u001b[39m'\u001b[39m\u001b[39m{\u001b[39;00mkey\u001b[39m}\u001b[39;00m\u001b[39m'\u001b[39m\u001b[39m not present\u001b[39m\u001b[39m\"\u001b[39m)\n",
      "\u001b[1;31mKeyError\u001b[0m: \"Key 'and' not present\""
     ]
    }
   ],
   "source": [
    "print(np.linalg.norm(w2v['the']))\n",
    "print(np.linalg.norm(w2v['hypothesis']))\n",
    "print(np.linalg.norm(w2v['in']))\n",
    "print(np.linalg.norm(w2v['ambiguity']))\n",
    "print(np.linalg.norm(w2v['or']))\n",
    "print(w2v['and'])"
   ]
  },
  {
   "cell_type": "code",
   "execution_count": 18,
   "metadata": {},
   "outputs": [
    {
     "name": "stdout",
     "output_type": "stream",
     "text": [
      "4.4263735\n",
      "[ 0.35377   0.32604  -0.22682  -0.32412  -0.18555   0.1486    1.3914\n",
      " -0.65154  -0.38197   0.17129  -0.43405   0.39154  -5.7918   -0.20201\n",
      " -0.23216  -0.10638   0.070835 -0.2146   -0.094385 -1.0851    0.61683\n",
      "  0.82184  -0.35102   0.19177  -0.43818 ]\n"
     ]
    }
   ],
   "source": [
    "print(np.linalg.norm(glove['fast'] - glove['the']))\n",
    "print(glove['not'])"
   ]
  },
  {
   "cell_type": "code",
   "execution_count": 19,
   "metadata": {},
   "outputs": [
    {
     "name": "stdout",
     "output_type": "stream",
     "text": [
      "         lemma      freq\n",
      "0          the  50033612\n",
      "1           be  32394756\n",
      "2          and  24778098\n",
      "3            a  24225478\n",
      "4           of  23159162\n",
      "...        ...       ...\n",
      "5045  keyboard     11885\n",
      "5046   persist     11880\n",
      "5047     wheat     11877\n",
      "5048  predator     11876\n",
      "5049   bizarre     11875\n",
      "\n",
      "[5050 rows x 2 columns]\n"
     ]
    }
   ],
   "source": [
    "import pandas as pd\n",
    "\n",
    "coca = pd.read_csv('../../data/coca_freq.csv')\n",
    "print(coca)"
   ]
  },
  {
   "cell_type": "code",
   "execution_count": 24,
   "metadata": {},
   "outputs": [
    {
     "ename": "AttributeError",
     "evalue": "'KeyedVectors' object has no attribute 'keys'",
     "output_type": "error",
     "traceback": [
      "\u001b[1;31m---------------------------------------------------------------------------\u001b[0m",
      "\u001b[1;31mAttributeError\u001b[0m                            Traceback (most recent call last)",
      "\u001b[1;32mc:\\Users\\ERSCHAIK\\VSCode\\researchTopics\\notebooks\\ranking\\word_vector_information.ipynb Cell 7\u001b[0m in \u001b[0;36m<cell line: 3>\u001b[1;34m()\u001b[0m\n\u001b[0;32m      <a href='vscode-notebook-cell:/c%3A/Users/ERSCHAIK/VSCode/researchTopics/notebooks/ranking/word_vector_information.ipynb#W6sZmlsZQ%3D%3D?line=0'>1</a>\u001b[0m \u001b[39mimport\u001b[39;00m \u001b[39mmatplotlib\u001b[39;00m\u001b[39m.\u001b[39;00m\u001b[39mpyplot\u001b[39;00m \u001b[39mas\u001b[39;00m \u001b[39mplt\u001b[39;00m\n\u001b[1;32m----> <a href='vscode-notebook-cell:/c%3A/Users/ERSCHAIK/VSCode/researchTopics/notebooks/ranking/word_vector_information.ipynb#W6sZmlsZQ%3D%3D?line=2'>3</a>\u001b[0m coca[coca[\u001b[39m'\u001b[39m\u001b[39mlemma\u001b[39m\u001b[39m'\u001b[39m]\u001b[39m.\u001b[39misin(w2v\u001b[39m.\u001b[39;49mkeys())]\n\u001b[0;32m      <a href='vscode-notebook-cell:/c%3A/Users/ERSCHAIK/VSCode/researchTopics/notebooks/ranking/word_vector_information.ipynb#W6sZmlsZQ%3D%3D?line=4'>5</a>\u001b[0m plt\u001b[39m.\u001b[39mplot(coca[\u001b[39m'\u001b[39m\u001b[39mfreq\u001b[39m\u001b[39m'\u001b[39m], coca[\u001b[39m'\u001b[39m\u001b[39mlemma\u001b[39m\u001b[39m'\u001b[39m]\u001b[39m.\u001b[39mapply(\u001b[39mlambda\u001b[39;00m x: np\u001b[39m.\u001b[39mlinalg\u001b[39m.\u001b[39mnorm(w2v[x])))\n",
      "\u001b[1;31mAttributeError\u001b[0m: 'KeyedVectors' object has no attribute 'keys'"
     ]
    }
   ],
   "source": [
    "import matplotlib.pyplot as plt\n",
    "\n",
    "coca[coca['lemma'].isin(w2v.keys())]\n",
    "\n",
    "plt.plot(coca['freq'], coca['lemma'].apply(lambda x: np.linalg.norm(w2v[x])))"
   ]
  }
 ],
 "metadata": {
  "kernelspec": {
   "display_name": "Python 3.8.13 ('researchTopics')",
   "language": "python",
   "name": "python3"
  },
  "language_info": {
   "codemirror_mode": {
    "name": "ipython",
    "version": 3
   },
   "file_extension": ".py",
   "mimetype": "text/x-python",
   "name": "python",
   "nbconvert_exporter": "python",
   "pygments_lexer": "ipython3",
   "version": "3.8.13"
  },
  "orig_nbformat": 4,
  "vscode": {
   "interpreter": {
    "hash": "845f2c57ce71201583169d626cc70b48fb84cd1f4b82525e3126fdb992a2f15c"
   }
  }
 },
 "nbformat": 4,
 "nbformat_minor": 2
}
