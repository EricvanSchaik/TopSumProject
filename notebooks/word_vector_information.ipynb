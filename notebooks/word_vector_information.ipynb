{
 "cells": [
  {
   "cell_type": "code",
   "execution_count": 1,
   "metadata": {},
   "outputs": [],
   "source": [
    "import gensim.downloader\n",
    "import numpy as np"
   ]
  },
  {
   "cell_type": "code",
   "execution_count": 2,
   "metadata": {},
   "outputs": [],
   "source": [
    "glove_vectors = gensim.downloader.load('glove-twitter-25')\n",
    "word2vec_vectors = gensim.downloader.load('word2vec-google-news-300')"
   ]
  },
  {
   "cell_type": "code",
   "execution_count": 3,
   "metadata": {},
   "outputs": [
    {
     "name": "stdout",
     "output_type": "stream",
     "text": [
      "6.8252115\n",
      "3.3557737\n",
      "6.5615573\n",
      "4.5202594\n",
      "5.700421\n"
     ]
    }
   ],
   "source": [
    "print(np.linalg.norm(glove_vectors['the']))\n",
    "print(np.linalg.norm(glove_vectors['hypothesis']))\n",
    "print(np.linalg.norm(glove_vectors['in']))\n",
    "print(np.linalg.norm(glove_vectors['ambiguity']))\n",
    "print(np.linalg.norm(glove_vectors['or']))"
   ]
  },
  {
   "cell_type": "code",
   "execution_count": 5,
   "metadata": {},
   "outputs": [
    {
     "name": "stdout",
     "output_type": "stream",
     "text": [
      "1.0722071\n",
      "3.4770265\n",
      "1.3277475\n",
      "3.0763721\n",
      "1.6684263\n"
     ]
    }
   ],
   "source": [
    "print(np.linalg.norm(word2vec_vectors['the']))\n",
    "print(np.linalg.norm(word2vec_vectors['hypothesis']))\n",
    "print(np.linalg.norm(word2vec_vectors['in']))\n",
    "print(np.linalg.norm(word2vec_vectors['ambiguity']))\n",
    "print(np.linalg.norm(word2vec_vectors['or']))"
   ]
  }
 ],
 "metadata": {
  "kernelspec": {
   "display_name": "Python 3.8.13 ('researchTopics')",
   "language": "python",
   "name": "python3"
  },
  "language_info": {
   "codemirror_mode": {
    "name": "ipython",
    "version": 3
   },
   "file_extension": ".py",
   "mimetype": "text/x-python",
   "name": "python",
   "nbconvert_exporter": "python",
   "pygments_lexer": "ipython3",
   "version": "3.8.13"
  },
  "orig_nbformat": 4,
  "vscode": {
   "interpreter": {
    "hash": "845f2c57ce71201583169d626cc70b48fb84cd1f4b82525e3126fdb992a2f15c"
   }
  }
 },
 "nbformat": 4,
 "nbformat_minor": 2
}
