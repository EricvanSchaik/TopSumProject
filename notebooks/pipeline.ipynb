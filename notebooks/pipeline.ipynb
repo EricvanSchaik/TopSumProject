{
 "cells": [
  {
   "cell_type": "markdown",
   "metadata": {},
   "source": [
    "# Import Data"
   ]
  },
  {
   "cell_type": "markdown",
   "metadata": {},
   "source": [
    "Import the around 100.000 reviews of the most reviewed amazon products"
   ]
  },
  {
   "cell_type": "code",
   "execution_count": 8,
   "metadata": {},
   "outputs": [],
   "source": [
    "import pandas as pd\n",
    "\n",
    "amazon_df = pd.read_csv('../data/amazon_sorted/most_populair_products.csv')\n",
    "amazon_df = amazon_df.drop(columns='index').dropna().reset_index()\n"
   ]
  },
  {
   "cell_type": "markdown",
   "metadata": {},
   "source": [
    "Take the most reviewed product"
   ]
  },
  {
   "cell_type": "code",
   "execution_count": null,
   "metadata": {},
   "outputs": [],
   "source": [
    "product_df = amazon_df[amazon_df['product_id'] == amazon_df.iloc[0]['product_id']]\n",
    "print(len(product_df))"
   ]
  },
  {
   "cell_type": "markdown",
   "metadata": {},
   "source": [
    "# Topic Modeling"
   ]
  },
  {
   "cell_type": "markdown",
   "metadata": {},
   "source": [
    "Generate a topic model, containing the 10 most important topics of the reviews. \\\n",
    "The topic model ```fit_transform``` function returns predictions, which are two lists: the first is a list of predicted topic per review, the second is a list of topic probability distributions per review. "
   ]
  },
  {
   "cell_type": "code",
   "execution_count": 2,
   "metadata": {},
   "outputs": [
    {
     "data": {
      "text/html": [
       "<div>\n",
       "<style scoped>\n",
       "    .dataframe tbody tr th:only-of-type {\n",
       "        vertical-align: middle;\n",
       "    }\n",
       "\n",
       "    .dataframe tbody tr th {\n",
       "        vertical-align: top;\n",
       "    }\n",
       "\n",
       "    .dataframe thead th {\n",
       "        text-align: right;\n",
       "    }\n",
       "</style>\n",
       "<table border=\"1\" class=\"dataframe\">\n",
       "  <thead>\n",
       "    <tr style=\"text-align: right;\">\n",
       "      <th></th>\n",
       "      <th>Topic</th>\n",
       "      <th>Count</th>\n",
       "      <th>Name</th>\n",
       "    </tr>\n",
       "  </thead>\n",
       "  <tbody>\n",
       "    <tr>\n",
       "      <th>0</th>\n",
       "      <td>-1</td>\n",
       "      <td>6628</td>\n",
       "      <td>-1_the_to_and_is</td>\n",
       "    </tr>\n",
       "    <tr>\n",
       "      <th>1</th>\n",
       "      <td>0</td>\n",
       "      <td>316</td>\n",
       "      <td>0_works_it_great_product</td>\n",
       "    </tr>\n",
       "    <tr>\n",
       "      <th>2</th>\n",
       "      <td>1</td>\n",
       "      <td>262</td>\n",
       "      <td>1_great_headphones_sound_good</td>\n",
       "    </tr>\n",
       "    <tr>\n",
       "      <th>3</th>\n",
       "      <td>2</td>\n",
       "      <td>251</td>\n",
       "      <td>2_the_tv_to_and</td>\n",
       "    </tr>\n",
       "    <tr>\n",
       "      <th>4</th>\n",
       "      <td>3</td>\n",
       "      <td>234</td>\n",
       "      <td>3_hearing_he_these_them</td>\n",
       "    </tr>\n",
       "    <tr>\n",
       "      <th>5</th>\n",
       "      <td>4</td>\n",
       "      <td>214</td>\n",
       "      <td>4_the_to_tv_it</td>\n",
       "    </tr>\n",
       "    <tr>\n",
       "      <th>6</th>\n",
       "      <td>5</td>\n",
       "      <td>207</td>\n",
       "      <td>5_tv_it_he_the</td>\n",
       "    </tr>\n",
       "    <tr>\n",
       "      <th>7</th>\n",
       "      <td>6</td>\n",
       "      <td>198</td>\n",
       "      <td>6_tv_watch_to_and</td>\n",
       "    </tr>\n",
       "    <tr>\n",
       "      <th>8</th>\n",
       "      <td>7</td>\n",
       "      <td>187</td>\n",
       "      <td>7_head_they_the_off</td>\n",
       "    </tr>\n",
       "    <tr>\n",
       "      <th>9</th>\n",
       "      <td>8</td>\n",
       "      <td>152</td>\n",
       "      <td>8_the_rs120_and_to</td>\n",
       "    </tr>\n",
       "    <tr>\n",
       "      <th>10</th>\n",
       "      <td>9</td>\n",
       "      <td>150</td>\n",
       "      <td>9_wireless_the_and_headphones</td>\n",
       "    </tr>\n",
       "  </tbody>\n",
       "</table>\n",
       "</div>"
      ],
      "text/plain": [
       "    Topic  Count                           Name\n",
       "0      -1   6628               -1_the_to_and_is\n",
       "1       0    316       0_works_it_great_product\n",
       "2       1    262  1_great_headphones_sound_good\n",
       "3       2    251                2_the_tv_to_and\n",
       "4       3    234        3_hearing_he_these_them\n",
       "5       4    214                 4_the_to_tv_it\n",
       "6       5    207                 5_tv_it_he_the\n",
       "7       6    198              6_tv_watch_to_and\n",
       "8       7    187            7_head_they_the_off\n",
       "9       8    152             8_the_rs120_and_to\n",
       "10      9    150  9_wireless_the_and_headphones"
      ]
     },
     "execution_count": 2,
     "metadata": {},
     "output_type": "execute_result"
    }
   ],
   "source": [
    "from bertopic import BERTopic\n",
    "\n",
    "topic_model = BERTopic(nr_topics=10, calculate_probabilities=True)\n",
    "\n",
    "predictions = topic_model.fit_transform(product_df['review_body'])\n",
    "topic_model.get_topic_info()"
   ]
  },
  {
   "cell_type": "code",
   "execution_count": 14,
   "metadata": {},
   "outputs": [
    {
     "name": "stdout",
     "output_type": "stream",
     "text": [
      "['Bought these for my 93 year old Dad.  When he visits he turns the TV up so loud that we hear it several rooms away.  With these both our TV is spared and we can sleep at night.', 'Bought these for my 93 year old Mother to listen to tv and she loves them!!!!!!! Would highly recommend these!!!', 'My husband absolutely loves these.  He is hard of hearing and these work great for him.  Also he can watch TV and I can go to sleep and not hear anything.', '92 year old dad LOVED these!  Said it was the BEST gift ever!  Good quality.  Good price.  Would definitely order again!', 'I baught these for myself and I have to fight to get them away from my husband. The quality is way above what I expected, well worth the costs. Thank You for quick delivery also. Lisa', 'Purchased for a birthday gift for a teenager. Great quality and work perfectly. He is very happy with them!', 'I have had trouble finding a good pair of headphones that will help with my failing hearing.  The sound quality and weight of these is perfect and I enjoy hearing every word now.  My only complaint is that the headband is too loose and cannot be adjusted.  When I lean my head forward they fall off my head which is a real problem.  Most other headphones have a tension adjustment that gives a level of grip to the head,  I wish these did.  Overcoming that design flaw would make these headphones nearly perfect.', \"These work great.I like them as much as BOSE headphones.I just ordered another pair for my Dad. He wears hearing aids and he tried them and loved them. The headphones are so light you don't even know you are wearing them.\", 'I am almost deaf in one ear and the other is not so good,  so these are really great, able to adjust the volume right on the headset. The only thing I have a problem with is I were glasses and the tension on the headset presses fairly tight on the frames causing some discomfort.', 'This was order for a friend and they love it.', 'Bought this for a friend and he is loving it !', 'Bought it for myself and then bought 3 more for gifts.  Awesome for the price.', \"my husband and I love them'\", 'My husband  love them. I do to!!<br />Now I can sleep in our room!!', 'My husband loves them']\n",
      "([4, 4, 4, 4, 4, 4], array([[1.85119226e-04, 2.01128985e-04, 1.72489556e-04, 1.88831052e-04,\n",
      "        9.95802386e-01, 6.50930846e-05, 1.74345130e-04, 9.34192911e-05,\n",
      "        1.33466736e-04, 8.54800494e-05],\n",
      "       [2.63307166e-05, 2.84993252e-05, 2.43689414e-05, 2.67312046e-05,\n",
      "        9.99408843e-01, 9.28606658e-06, 2.47475840e-05, 1.31803162e-05,\n",
      "        1.85227465e-05, 1.19728908e-05],\n",
      "       [1.82053120e-03, 1.98368148e-03, 1.64081011e-03, 1.81850784e-03,\n",
      "        9.58482983e-01, 5.78203397e-04, 1.60184370e-03, 9.32740325e-04,\n",
      "        1.42399267e-03, 8.63321018e-04],\n",
      "       [0.00000000e+00, 0.00000000e+00, 0.00000000e+00, 0.00000000e+00,\n",
      "        9.99999998e-01, 0.00000000e+00, 0.00000000e+00, 0.00000000e+00,\n",
      "        0.00000000e+00, 0.00000000e+00],\n",
      "       [1.13478787e-13, 2.72390557e-13, 8.91278442e-13, 8.50537551e-13,\n",
      "        9.39137872e-01, 3.91895718e-13, 1.15481704e-12, 1.52669135e-13,\n",
      "        9.27688003e-09, 2.94825740e-12],\n",
      "       [0.00000000e+00, 0.00000000e+00, 0.00000000e+00, 0.00000000e+00,\n",
      "        9.99999998e-01, 0.00000000e+00, 0.00000000e+00, 0.00000000e+00,\n",
      "        0.00000000e+00, 0.00000000e+00]]))\n"
     ]
    }
   ],
   "source": [
    "print((topic_model.get_representative_docs()[3]))\n",
    "print(topic_model.transform(topic_model.get_representative_docs()[4]))"
   ]
  },
  {
   "cell_type": "code",
   "execution_count": 15,
   "metadata": {},
   "outputs": [],
   "source": [
    "## TODO Try topic modeling per sentence instead of per review"
   ]
  },
  {
   "cell_type": "markdown",
   "metadata": {},
   "source": [
    "# Ranking"
   ]
  },
  {
   "cell_type": "markdown",
   "metadata": {},
   "source": [
    "For all the reviews, take the average sentiment value of the review, and multiply that according to the topic probability distribution"
   ]
  },
  {
   "cell_type": "code",
   "execution_count": null,
   "metadata": {},
   "outputs": [],
   "source": []
  },
  {
   "cell_type": "markdown",
   "metadata": {},
   "source": [
    "Take the average sentiment value of each topic"
   ]
  },
  {
   "cell_type": "code",
   "execution_count": null,
   "metadata": {},
   "outputs": [],
   "source": []
  },
  {
   "cell_type": "markdown",
   "metadata": {},
   "source": [
    "Take the 300 most representative reviews per topic"
   ]
  },
  {
   "cell_type": "code",
   "execution_count": null,
   "metadata": {},
   "outputs": [],
   "source": []
  },
  {
   "cell_type": "markdown",
   "metadata": {},
   "source": [
    "Rerank the reviews according to the closeness to the average sentiment value"
   ]
  },
  {
   "cell_type": "code",
   "execution_count": null,
   "metadata": {},
   "outputs": [],
   "source": []
  },
  {
   "cell_type": "markdown",
   "metadata": {},
   "source": [
    "Calculate the $L_2$ norm of each word vector of each review, then calculate the average per review"
   ]
  },
  {
   "cell_type": "code",
   "execution_count": null,
   "metadata": {},
   "outputs": [],
   "source": []
  },
  {
   "cell_type": "markdown",
   "metadata": {},
   "source": [
    "Rerank according to the information estimation, where a higher average $L_2$ norm indicates a higher information density"
   ]
  },
  {
   "cell_type": "code",
   "execution_count": null,
   "metadata": {},
   "outputs": [],
   "source": []
  },
  {
   "cell_type": "markdown",
   "metadata": {},
   "source": [
    "# Summarize"
   ]
  },
  {
   "cell_type": "markdown",
   "metadata": {},
   "source": [
    "Summarize the reranked 300 reviews of the most reviewed amazon product"
   ]
  },
  {
   "cell_type": "code",
   "execution_count": null,
   "metadata": {},
   "outputs": [],
   "source": []
  },
  {
   "cell_type": "markdown",
   "metadata": {},
   "source": [
    "# Measure Results"
   ]
  },
  {
   "cell_type": "markdown",
   "metadata": {},
   "source": [
    "Estimate the information value of the summary with the next word predictor"
   ]
  },
  {
   "cell_type": "code",
   "execution_count": null,
   "metadata": {},
   "outputs": [],
   "source": []
  },
  {
   "cell_type": "markdown",
   "metadata": {},
   "source": [
    "Calculate the relevance of the summary to the product category"
   ]
  },
  {
   "cell_type": "code",
   "execution_count": null,
   "metadata": {},
   "outputs": [],
   "source": []
  },
  {
   "cell_type": "markdown",
   "metadata": {},
   "source": [
    "Count the most common English words"
   ]
  },
  {
   "cell_type": "code",
   "execution_count": null,
   "metadata": {},
   "outputs": [],
   "source": []
  }
 ],
 "metadata": {
  "kernelspec": {
   "display_name": "Python 3.8.13 ('researchTopics')",
   "language": "python",
   "name": "python3"
  },
  "language_info": {
   "codemirror_mode": {
    "name": "ipython",
    "version": 3
   },
   "file_extension": ".py",
   "mimetype": "text/x-python",
   "name": "python",
   "nbconvert_exporter": "python",
   "pygments_lexer": "ipython3",
   "version": "3.8.13"
  },
  "orig_nbformat": 4,
  "vscode": {
   "interpreter": {
    "hash": "b30b14a64463b48a472ddf210762c2b31ca134fd217a9af0c6fba74bd25d541d"
   }
  }
 },
 "nbformat": 4,
 "nbformat_minor": 2
}
