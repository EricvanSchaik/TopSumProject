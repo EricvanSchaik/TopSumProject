{
 "cells": [
  {
   "cell_type": "code",
   "execution_count": 2,
   "metadata": {},
   "outputs": [
    {
     "data": {
      "text/plain": [
       "[(0,\n",
       "  '0.018*\"antenna\" + 0.014*\"br\" + 0.012*\"wall\" + 0.012*\"unit\" + 0.012*\"tv\" + 0.012*\"leaf\" + 0.010*\"get\" + 0.009*\"mini\" + 0.008*\"would\" + 0.007*\"room\"'),\n",
       " (1,\n",
       "  '0.066*\"sound\" + 0.060*\"speaker\" + 0.019*\"bluetooth\" + 0.018*\"br\" + 0.018*\"quality\" + 0.018*\"good\" + 0.016*\"bose\" + 0.013*\"volume\" + 0.013*\"great\" + 0.012*\"music\"'),\n",
       " (2,\n",
       "  '0.045*\"cable\" + 0.017*\"channel\" + 0.014*\"one\" + 0.014*\"hdmi\" + 0.013*\"antenna\" + 0.012*\"work\" + 0.011*\"get\" + 0.009*\"box\" + 0.008*\"amazon\" + 0.008*\"quality\"'),\n",
       " (3,\n",
       "  '0.114*\"great\" + 0.070*\"work\" + 0.056*\"price\" + 0.043*\"good\" + 0.041*\"product\" + 0.024*\"well\" + 0.024*\"quality\" + 0.016*\"cable\" + 0.016*\"would\" + 0.015*\"recommend\"'),\n",
       " (4,\n",
       "  '0.019*\"one\" + 0.010*\"it\" + 0.010*\"im\" + 0.010*\"time\" + 0.010*\"bought\" + 0.009*\"get\" + 0.008*\"review\" + 0.008*\"got\" + 0.008*\"portable\" + 0.008*\"like\"'),\n",
       " (5,\n",
       "  '0.071*\"easy\" + 0.061*\"love\" + 0.036*\"great\" + 0.034*\"room\" + 0.034*\"it\" + 0.025*\"use\" + 0.020*\"perfect\" + 0.018*\"tv\" + 0.013*\"gift\" + 0.011*\"watch\"')]"
      ]
     },
     "execution_count": 2,
     "metadata": {},
     "output_type": "execute_result"
    }
   ],
   "source": [
    "from topic_modeling.LdaModeling import model_topics\n",
    "import pandas as pd\n",
    "\n",
    "amazon_df = pd.read_csv('./amazon_sorted/most_populair_products.csv')\n",
    "all_reviews = amazon_df['review_body']\n",
    "\n",
    "ldamodel = model_topics(all_reviews, 6)\n",
    "ldamodel.print_topics()"
   ]
  },
  {
   "cell_type": "code",
   "execution_count": 6,
   "metadata": {},
   "outputs": [
    {
     "name": "stdout",
     "output_type": "stream",
     "text": [
      "8799\n",
      "0       Sennheiser has a great reputation for headphon...\n",
      "1               A little static sometimes but works well.\n",
      "2       Pros:  Great headphones for the price. Worked ...\n",
      "3       You can spend a lot more for and get a lot les...\n",
      "4       I don't usually leave reviews but I have to on...\n",
      "                              ...                        \n",
      "8794    Headphones work very well.  Excellent range an...\n",
      "8795    They have terrific sound but slip off my head ...\n",
      "8796                                     work as expected\n",
      "8797    Works great and husband can hear the TV and it...\n",
      "8798    Good for listening and able to walk around in ...\n",
      "Name: review_body, Length: 8799, dtype: object\n"
     ]
    },
    {
     "data": {
      "text/plain": [
       "[(0,\n",
       "  '0.020*\"br\" + 0.019*\"headphone\" + 0.011*\"volume\" + 0.011*\"sound\" + 0.010*\"head\" + 0.008*\"set\" + 0.008*\"tv\" + 0.007*\"work\" + 0.007*\"tuning\" + 0.006*\"use\"'),\n",
       " (1,\n",
       "  '0.018*\"product\" + 0.014*\"sound\" + 0.013*\"easy\" + 0.013*\"great\" + 0.012*\"love\" + 0.011*\"tv\" + 0.008*\"like\" + 0.008*\"headphone\" + 0.008*\"it\" + 0.007*\"would\"'),\n",
       " (2,\n",
       "  '0.042*\"headphone\" + 0.027*\"sound\" + 0.016*\"good\" + 0.014*\"quality\" + 0.013*\"head\" + 0.013*\"great\" + 0.012*\"wireless\" + 0.008*\"range\" + 0.008*\"ear\" + 0.007*\"use\"'),\n",
       " (3,\n",
       "  '0.020*\"ear\" + 0.016*\"headphone\" + 0.011*\"sound\" + 0.010*\"product\" + 0.009*\"quality\" + 0.009*\"good\" + 0.008*\"return\" + 0.008*\"sennheiser\" + 0.008*\"better\" + 0.007*\"would\"'),\n",
       " (4,\n",
       "  '0.020*\"sound\" + 0.016*\"headphone\" + 0.016*\"great\" + 0.014*\"good\" + 0.012*\"tv\" + 0.012*\"work\" + 0.010*\"would\" + 0.010*\"set\" + 0.010*\"headset\" + 0.008*\"one\"'),\n",
       " (5,\n",
       "  '0.040*\"tv\" + 0.021*\"headphone\" + 0.015*\"sound\" + 0.012*\"hear\" + 0.011*\"work\" + 0.010*\"hearing\" + 0.010*\"watch\" + 0.009*\"great\" + 0.009*\"volume\" + 0.009*\"one\"')]"
      ]
     },
     "execution_count": 6,
     "metadata": {},
     "output_type": "execute_result"
    }
   ],
   "source": [
    "first_product_reviews = amazon_df[amazon_df['product_id'] == amazon_df.iloc[0]['product_id']]['review_body']\n",
    "\n",
    "print(len(first_product_reviews))\n",
    "print(amazon_df[amazon_df['product_id'] == amazon_df.iloc[0]['product_id']])\n",
    "\n",
    "ldamodel = model_topics(first_product_reviews, 6)\n",
    "ldamodel.print_topics()"
   ]
  }
 ],
 "metadata": {
  "kernelspec": {
   "display_name": "Python 3.8.13 ('researchTopics')",
   "language": "python",
   "name": "python3"
  },
  "language_info": {
   "codemirror_mode": {
    "name": "ipython",
    "version": 3
   },
   "file_extension": ".py",
   "mimetype": "text/x-python",
   "name": "python",
   "nbconvert_exporter": "python",
   "pygments_lexer": "ipython3",
   "version": "3.8.13"
  },
  "orig_nbformat": 4,
  "vscode": {
   "interpreter": {
    "hash": "b30b14a64463b48a472ddf210762c2b31ca134fd217a9af0c6fba74bd25d541d"
   }
  }
 },
 "nbformat": 4,
 "nbformat_minor": 2
}
