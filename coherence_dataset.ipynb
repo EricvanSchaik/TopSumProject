{
 "cells": [
  {
   "cell_type": "code",
   "execution_count": 1,
   "id": "4a59b34d",
   "metadata": {},
   "outputs": [],
   "source": [
    "import pandas as pd\n",
    "from helpers.serialization import df_read_json\n",
    "import gensim.downloader\n",
    "import numpy as np\n",
    "import json"
   ]
  },
  {
   "cell_type": "code",
   "execution_count": 2,
   "id": "c495cfdb",
   "metadata": {},
   "outputs": [
    {
     "name": "stdout",
     "output_type": "stream",
     "text": [
      "                                                 text\n",
      "0   No, I'm not a fan of sushi but the place is ve...\n",
      "1   Probably my favorite sushi spot in the area. I...\n",
      "2   Sushi is excellent, the food was excellent and...\n",
      "3   Sushi is amazing. I've tried the sashimi, and ...\n",
      "4   Amazing fish and chips. I've tried the sushi a...\n",
      "..                                                ...\n",
      "95  Service was very bad. The food was good, but n...\n",
      "96  Place is not as bad as the food. I was not imp...\n",
      "97  The food was good but not amazing. I had to as...\n",
      "98  The staff is super friendly and I was there on...\n",
      "99  Interesting place to eat near my house and the...\n",
      "\n",
      "[100 rows x 1 columns]\n"
     ]
    }
   ],
   "source": [
    "meansum_path = './my_datasets/meansum_summaries_trimmed.json'\n",
    "dataset = pd.read_json(meansum_path, lines=True)\n",
    "print(dataset)"
   ]
  },
  {
   "cell_type": "code",
   "execution_count": 3,
   "id": "2b53004b",
   "metadata": {},
   "outputs": [],
   "source": [
    "glove_vectors = gensim.downloader.load('glove-twitter-25')\n",
    "def word_to_vec(word):\n",
    "    if word.lower() in glove_vectors:\n",
    "        return glove_vectors[word.lower()]\n",
    "    else:\n",
    "        return np.array([0]*25)"
   ]
  },
  {
   "cell_type": "code",
   "execution_count": 4,
   "id": "ac7e3835",
   "metadata": {
    "scrolled": true
   },
   "outputs": [
    {
     "name": "stdout",
     "output_type": "stream",
     "text": [
      "[\"No, I'm not a fan of sushi but the place is very clean\", 'Service was great and the staff is very friendly', 'We will be back to try their sushi again', \"I'm not going to say it's a place that's not for the faint of heart, but this is better than most.\"]\n"
     ]
    }
   ],
   "source": [
    "all_vectors = np.array([])\n",
    "first_review = dataset['text'].tolist()[0]\n",
    "print(first_review.split('. '))"
   ]
  },
  {
   "cell_type": "code",
   "execution_count": 24,
   "id": "42e49f38",
   "metadata": {},
   "outputs": [],
   "source": [
    "import json\n",
    "\n",
    "review_vectors = []\n",
    "sentences = first_review.split('. ')\n",
    "for sentence in sentences:\n",
    "#     sentence_vectors = np.array([])\n",
    "    sentence_vectors = []\n",
    "    words = sentence.split()\n",
    "    for word in words:\n",
    "        sentence_vectors.append(word_to_vec(word).tolist())\n",
    "#         if len(sentence_vectors) == 0:\n",
    "#             sentence_vectors = np.array([word_to_vec(word)])\n",
    "#         else:\n",
    "#             sentence_vectors = np.concatenate((sentence_vectors, np.array([word_to_vec(word)])))\n",
    "    review_vectors.append(sentence_vectors)\n",
    "\n",
    "# array_length = max([len(x) for x in review_vectors])\n",
    "# padded_review_vectors = [np.pad(x, ((0, array_length - len(x)), (0,0)), constant_values=-1) for x in review_vectors]\n",
    "\n",
    "with open('sentences.json', 'w') as outfile:\n",
    "    json.dump(review_vectors, outfile)\n",
    "\n",
    "# second_review = dataset['text'].tolist()[1]\n",
    "# for sentence in second_review.split('. '):\n",
    "#     sentence_vector2 = np.array([])\n",
    "#     for word in sentence.split():\n",
    "#         if len(sentence_vector2) == 0:\n",
    "#             sentence_vector2 = np.array([word_to_vec(word)])\n",
    "#         else:\n",
    "#             sentence_vector2 = np.concatenate((sentence_vector, np.array([word_to_vec(word)])))"
   ]
  },
  {
   "cell_type": "code",
   "execution_count": null,
   "id": "05708fe2",
   "metadata": {},
   "outputs": [],
   "source": []
  }
 ],
 "metadata": {
  "kernelspec": {
   "display_name": "Python 3 (ipykernel)",
   "language": "python",
   "name": "python3"
  },
  "language_info": {
   "codemirror_mode": {
    "name": "ipython",
    "version": 3
   },
   "file_extension": ".py",
   "mimetype": "text/x-python",
   "name": "python",
   "nbconvert_exporter": "python",
   "pygments_lexer": "ipython3",
   "version": "3.8.13"
  }
 },
 "nbformat": 4,
 "nbformat_minor": 5
}
