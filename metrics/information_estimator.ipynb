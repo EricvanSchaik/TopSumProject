{
 "cells": [
  {
   "cell_type": "code",
   "execution_count": 1,
   "id": "c90d3b6f",
   "metadata": {},
   "outputs": [],
   "source": [
    "import os\n",
    "import sys\n",
    "module_path = os.path.abspath(os.path.join('..'))\n",
    "if module_path not in sys.path:\n",
    "    sys.path.append(module_path)"
   ]
  },
  {
   "cell_type": "code",
   "execution_count": 2,
   "id": "02475c93",
   "metadata": {},
   "outputs": [],
   "source": [
    "from torch.utils.data import DataLoader\n",
    "from transformers import T5Config, T5ForConditionalGeneration, T5Tokenizer\n",
    "from helpers.serialization import df_read_json"
   ]
  },
  {
   "cell_type": "code",
   "execution_count": null,
   "id": "f3e17550",
   "metadata": {},
   "outputs": [
    {
     "data": {
      "application/vnd.jupyter.widget-view+json": {
       "model_id": "34303954754242d39ccc107741e0283b",
       "version_major": 2,
       "version_minor": 0
      },
      "text/plain": [
       "Downloading:   0%|          | 0.00/773k [00:00<?, ?B/s]"
      ]
     },
     "metadata": {},
     "output_type": "display_data"
    },
    {
     "data": {
      "application/vnd.jupyter.widget-view+json": {
       "model_id": "e925d990dc8d47ba9dc76b594af42542",
       "version_major": 2,
       "version_minor": 0
      },
      "text/plain": [
       "Downloading:   0%|          | 0.00/1.74k [00:00<?, ?B/s]"
      ]
     },
     "metadata": {},
     "output_type": "display_data"
    },
    {
     "data": {
      "application/vnd.jupyter.widget-view+json": {
       "model_id": "aa437aae871341769798bb4652ff4de7",
       "version_major": 2,
       "version_minor": 0
      },
      "text/plain": [
       "Downloading:   0%|          | 0.00/1.81k [00:00<?, ?B/s]"
      ]
     },
     "metadata": {},
     "output_type": "display_data"
    },
    {
     "data": {
      "application/vnd.jupyter.widget-view+json": {
       "model_id": "1c7d5f6efebe47c3884422706de024db",
       "version_major": 2,
       "version_minor": 0
      },
      "text/plain": [
       "Downloading:   0%|          | 0.00/1.29k [00:00<?, ?B/s]"
      ]
     },
     "metadata": {},
     "output_type": "display_data"
    },
    {
     "data": {
      "application/vnd.jupyter.widget-view+json": {
       "model_id": "8eb2fdec6672403c863be112a7d3e580",
       "version_major": 2,
       "version_minor": 0
      },
      "text/plain": [
       "Downloading:   0%|          | 0.00/231M [00:00<?, ?B/s]"
      ]
     },
     "metadata": {},
     "output_type": "display_data"
    }
   ],
   "source": [
    "model_name = \"allenai/t5-small-next-word-generator-qoogle\"\n",
    "tokenizer = T5Tokenizer.from_pretrained(model_name)\n",
    "model = T5ForConditionalGeneration.from_pretrained(model_name)\n",
    "\n",
    "def run_model(input_string, **generator_args):\n",
    "    input_ids = tokenizer.encode(input_string, return_tensors=\"pt\")\n",
    "    res = model.generate(input_ids, **generator_args)\n",
    "    output = tokenizer.batch_decode(res, skip_special_tokens=True)\n",
    "    return output\n",
    "\n",
    "\n",
    "def test_summaries(path):\n",
    "    meansum = df_read_json(path)\n",
    "    correct = 0\n",
    "    total = 0\n",
    "    for review in meansum['text']:\n",
    "        processed = ''\n",
    "        for word in review.split():\n",
    "            processed += word + ' '\n",
    "            next_word = run_model(processed)[0]\n",
    "            current_index = len(processed)\n",
    "            if review[current_index:current_index+len(next_word)] == next_word:\n",
    "                correct += 1\n",
    "            total += 1\n",
    "    print('correct: ' + str(correct))\n",
    "    print('total: ' + str(total))\n",
    "    print('ratio: ' + str(correct/total))\n",
    "\n",
    "\n",
    "test_summaries('../datasets/meansum_summaries_trimmed.json')\n",
    "test_summaries('../datasets/pegasus_summaries.json')"
   ]
  }
 ],
 "metadata": {
  "kernelspec": {
   "display_name": "Python 3 (ipykernel)",
   "language": "python",
   "name": "python3"
  },
  "language_info": {
   "codemirror_mode": {
    "name": "ipython",
    "version": 3
   },
   "file_extension": ".py",
   "mimetype": "text/x-python",
   "name": "python",
   "nbconvert_exporter": "python",
   "pygments_lexer": "ipython3",
   "version": "3.8.13"
  }
 },
 "nbformat": 4,
 "nbformat_minor": 5
}
