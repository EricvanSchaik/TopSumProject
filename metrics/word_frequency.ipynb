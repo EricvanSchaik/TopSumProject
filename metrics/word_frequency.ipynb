{
 "cells": [
  {
   "cell_type": "code",
   "execution_count": 22,
   "id": "f1d0375b",
   "metadata": {},
   "outputs": [],
   "source": [
    "import os\n",
    "import sys\n",
    "module_path = os.path.abspath(os.path.join('..'))\n",
    "if module_path not in sys.path:\n",
    "    sys.path.append(module_path)"
   ]
  },
  {
   "cell_type": "code",
   "execution_count": 23,
   "id": "febf9805",
   "metadata": {},
   "outputs": [],
   "source": [
    "from helpers.serialization import df_read_json\n",
    "import pandas as pd"
   ]
  },
  {
   "cell_type": "code",
   "execution_count": 24,
   "id": "f077ce83",
   "metadata": {},
   "outputs": [
    {
     "name": "stdout",
     "output_type": "stream",
     "text": [
      "              freq\n",
      "lemma             \n",
      "the       50033612\n",
      "be        32394756\n",
      "and       24778098\n",
      "a         24225478\n",
      "of        23159162\n",
      "...            ...\n",
      "keyboard     11885\n",
      "persist      11880\n",
      "wheat        11877\n",
      "predator     11876\n",
      "bizarre      11875\n",
      "\n",
      "[5050 rows x 1 columns]\n"
     ]
    }
   ],
   "source": [
    "coca_df = pd.read_csv('../my_datasets/coca_freq.csv', index_col=0)\n",
    "print(coca_df)"
   ]
  },
  {
   "cell_type": "code",
   "execution_count": 25,
   "id": "a33731c1",
   "metadata": {},
   "outputs": [
    {
     "name": "stdout",
     "output_type": "stream",
     "text": [
      "meansum freq ratio: 5661428.605722779\n",
      "pegasus freq ratio: 4843715.563230384\n"
     ]
    }
   ],
   "source": [
    "coca_dict = coca_df.to_dict()['freq']\n",
    "\n",
    "meansum = df_read_json('../my_datasets/meansum_summaries_trimmed.json')\n",
    "total_freq = 0\n",
    "total_words = 0\n",
    "for review in meansum['text']:\n",
    "    for word in review.split():\n",
    "        if word in coca_dict:\n",
    "            total_freq += coca_dict[word]\n",
    "        total_words += 1\n",
    "print('meansum freq ratio: ' + str(total_freq/total_words))\n",
    "\n",
    "pegasus = df_read_json('../my_datasets/pegasus_summaries.json')\n",
    "total_freq = 0\n",
    "total_words = 0\n",
    "for review in pegasus['text']:\n",
    "    for word in review.split():\n",
    "        if word in coca_dict:\n",
    "            total_freq += coca_dict[word]\n",
    "        total_words += 1\n",
    "print('pegasus freq ratio: ' + str(total_freq/total_words))"
   ]
  }
 ],
 "metadata": {
  "kernelspec": {
   "display_name": "Python 3 (ipykernel)",
   "language": "python",
   "name": "python3"
  },
  "language_info": {
   "codemirror_mode": {
    "name": "ipython",
    "version": 3
   },
   "file_extension": ".py",
   "mimetype": "text/x-python",
   "name": "python",
   "nbconvert_exporter": "python",
   "pygments_lexer": "ipython3",
   "version": "3.8.13"
  }
 },
 "nbformat": 4,
 "nbformat_minor": 5
}
